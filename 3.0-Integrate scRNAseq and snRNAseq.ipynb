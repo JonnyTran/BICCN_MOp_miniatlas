{
 "cells": [
  {
   "cell_type": "markdown",
   "id": "57ab972b-13ab-4240-a200-6c04e6f5408e",
   "metadata": {},
   "source": [
    "# Import libraries"
   ]
  },
  {
   "cell_type": "code",
   "execution_count": null,
   "id": "43ca30c3-e9fe-4314-b8d7-44a8bbb71e1c",
   "metadata": {
    "scrolled": true
   },
   "outputs": [],
   "source": [
    "%load_ext autoreload\n",
    "%autoreload 2\n",
    "\n",
    "import tqdm, sys, os, time, logging, warnings\n",
    "from numba.core.errors import NumbaDeprecationWarning, NumbaPendingDeprecationWarning\n",
    "warnings.simplefilter('ignore', category=NumbaDeprecationWarning)\n",
    "\n",
    "import pandas as pd\n",
    "import numpy as np\n",
    "import scipy as sp\n",
    "import scipy.sparse as sps\n",
    "\n",
    "import scanpy as sc\n",
    "import anndata as ad\n",
    "import muon as mu\n",
    "\n",
    "from sklearn.metrics import adjusted_rand_score as ari"
   ]
  },
  {
   "cell_type": "markdown",
   "id": "f640e9fd-49a7-4b59-b145-6552ee0422dd",
   "metadata": {},
   "source": [
    "## Load and preprocess individual datasets"
   ]
  },
  {
   "cell_type": "markdown",
   "id": "47d89337-8fd0-4ce1-b08a-1e08f66ff611",
   "metadata": {},
   "source": [
    "### scRNA-seq A"
   ]
  },
  {
   "cell_type": "code",
   "execution_count": null,
   "id": "5690b241-2bcb-43d7-8f1b-b0c39f37c422",
   "metadata": {
    "scrolled": true
   },
   "outputs": [],
   "source": [
    "ad_scrnaseq_A = mu.ad.read_loom(\"data/processed/scRNAseq_10x_v3_AIBS.loom\", sparse=True)\n",
    "ad_scrnaseq_A.obs.replace('nan', None, inplace=True)\n",
    "\n",
    "ad_scrnaseq_A.obs.set_index(\"sample_name\", inplace=True)\n",
    "ad_scrnaseq_A.var.set_index(\"gene_name\", inplace=True)"
   ]
  },
  {
   "cell_type": "code",
   "execution_count": null,
   "id": "c8958528-b304-437f-b46a-347565881bef",
   "metadata": {},
   "outputs": [],
   "source": [
    "nonzero_gene_counts = pd.Series(np.array((ad_scrnaseq_A.X>0).sum(1)).flatten(),\n",
    "                                index=ad_scrnaseq_A.obs.index)\n",
    "ad_scrnaseq_A.obs['gene.counts'] = ad_scrnaseq_A.obs['gene.counts'].combine_first(nonzero_gene_counts)\n",
    "\n",
    "ad_scrnaseq_A.obs['doublet.score'].fillna(0.0, inplace=True)"
   ]
  },
  {
   "cell_type": "code",
   "execution_count": null,
   "id": "4466b46f-ed59-4974-bcfd-72cc30992c57",
   "metadata": {},
   "outputs": [],
   "source": [
    "def filter_cell_A(s):\n",
    "    if s['class_label'] == 'Low Quality':\n",
    "        return False\n",
    "\n",
    "    condition = True\n",
    "    \n",
    "    # Gene count\n",
    "    if s['class_label'] == 'Non-Neuronal':\n",
    "        condition = condition & (s['gene.counts'] >= 1000)\n",
    "    else:\n",
    "        condition = condition & (s['gene.counts'] >= 2000)\n",
    "\n",
    "    # Doublet cells\n",
    "    condition = condition & (s['doublet.score'] <= 0.3)\n",
    "\n",
    "    return condition\n",
    "    \n",
    "ad_scrnaseq_A = ad_scrnaseq_A[ad_scrnaseq_A.obs.apply(filter_cell_A, axis=1), :]\n",
    "ad_scrnaseq_A"
   ]
  },
  {
   "cell_type": "markdown",
   "id": "58f5b338-b549-43ac-9ab3-db37edce2550",
   "metadata": {},
   "source": [
    "### snRNA-seq B"
   ]
  },
  {
   "cell_type": "code",
   "execution_count": null,
   "id": "c141b43b-ec8b-45bb-bafe-fdf7561e5ce7",
   "metadata": {},
   "outputs": [],
   "source": [
    "ad_snrnaseq_B = mu.ad.read_loom(\"data/processed/snRNAseq_10x_v3_Broad.loom\")\n",
    "ad_snrnaseq_B.obs.replace('nan', None, inplace=True)\n",
    "\n",
    "ad_snrnaseq_B.obs.set_index(\"sample_name\", inplace=True)\n",
    "ad_snrnaseq_B.var.set_index(\"gene_name\", inplace=True)"
   ]
  },
  {
   "cell_type": "code",
   "execution_count": null,
   "id": "ad111382-ae67-405c-b5dc-4045ae25e43e",
   "metadata": {},
   "outputs": [],
   "source": [
    "ad_snrnaseq_B"
   ]
  },
  {
   "cell_type": "markdown",
   "id": "d9f05e76-160a-4401-9e27-86467e713d8e",
   "metadata": {},
   "source": [
    "## Filtering low QC genes & cells"
   ]
  },
  {
   "cell_type": "code",
   "execution_count": null,
   "id": "ef4a777c-938d-4650-b800-848d8c469d9a",
   "metadata": {},
   "outputs": [],
   "source": [
    "nonzero_gene_counts = pd.Series(np.array((ad_snrnaseq_B.X>0).sum(1)).flatten(),\n",
    "                                index=ad_snrnaseq_B.obs.index)\n",
    "ad_snrnaseq_B.obs['gene.counts'] = ad_snrnaseq_B.obs['gene.counts'].combine_first(nonzero_gene_counts)\n",
    "\n",
    "ad_snrnaseq_B.obs['Broad.QC.doublet'].fillna(0.0, inplace=True)"
   ]
  },
  {
   "cell_type": "code",
   "execution_count": null,
   "id": "381f8f75-da72-4a80-8115-b0cfc873fa38",
   "metadata": {},
   "outputs": [],
   "source": [
    "def filter_cell_B(s):\n",
    "    if s['class_label'] == 'Low Quality':\n",
    "        return False\n",
    "    \n",
    "    condition = True\n",
    "\n",
    "    # Gene count\n",
    "    if s['class_label'] == 'Non-Neuronal':\n",
    "        condition = condition & (s['gene.counts'] >= 500)\n",
    "    else:\n",
    "        condition = condition & (s['gene.counts'] >= 1000)\n",
    "\n",
    "    # Doublet cells\n",
    "    condition = condition & (s['Broad.QC.doublet'] <= 0.3)\n",
    "\n",
    "    return condition\n",
    "\n",
    "ad_snrnaseq_B = ad_snrnaseq_B[ad_snrnaseq_B.obs.apply(filter_cell_B, axis=1), :]\n",
    "ad_snrnaseq_B"
   ]
  },
  {
   "cell_type": "code",
   "execution_count": null,
   "id": "4cf63b7d-2a43-4873-9f1e-530f9f5efbd6",
   "metadata": {},
   "outputs": [],
   "source": [
    "assert (ad_snrnaseq_B.var.index == ad_scrnaseq_A.var.index).all()\n",
    "ad_scrnaseq_A.var = ad_scrnaseq_A.var.reset_index().set_index('gene_id')\n",
    "ad_snrnaseq_B.var = ad_scrnaseq_A.var"
   ]
  },
  {
   "cell_type": "code",
   "execution_count": null,
   "id": "e3472c4a-929f-42f8-ba10-bc9532dd7f8e",
   "metadata": {},
   "outputs": [],
   "source": [
    "ad_scrnaseq_A.var.index.duplicated().any(), ad_snrnaseq_B.var.index.duplicated().any()"
   ]
  },
  {
   "cell_type": "markdown",
   "id": "fea68591-a862-40d2-b8c3-b73235bff5c6",
   "metadata": {},
   "source": [
    "# Integrate cells from multiple dataset"
   ]
  },
  {
   "cell_type": "code",
   "execution_count": null,
   "id": "5e276f94-c5c0-42c4-be81-64ce0e735e1b",
   "metadata": {},
   "outputs": [],
   "source": [
    "mdata = mu.MuData({\"scrna\": ad_scrnaseq_A, \n",
    "                   \"snrna\": ad_snrnaseq_B}, \n",
    "                    axis=1)\n",
    "mdata"
   ]
  },
  {
   "cell_type": "code",
   "execution_count": null,
   "id": "ff2b0391-9f96-44da-8dea-af321a497bf1",
   "metadata": {
    "scrolled": true
   },
   "outputs": [],
   "source": [
    "mdata.X = sps.vstack([mdata['scrna'].X, mdata['snrna'].X])"
   ]
  },
  {
   "cell_type": "code",
   "execution_count": null,
   "id": "01b3e4a1-9adc-4cea-b8cf-be262acf47ca",
   "metadata": {},
   "outputs": [],
   "source": [
    "mdata.update()\n",
    "mdata"
   ]
  },
  {
   "cell_type": "markdown",
   "id": "b6c9f95e-b234-4f82-81e9-58e0dfab123e",
   "metadata": {},
   "source": [
    "## Save"
   ]
  },
  {
   "cell_type": "code",
   "execution_count": null,
   "id": "d3409bd7-b4f9-491b-b494-721453fdef8e",
   "metadata": {},
   "outputs": [],
   "source": [
    "mdata['snrna'].obs['Comb.QC'].fillna(\"nan\", inplace=True)"
   ]
  },
  {
   "cell_type": "code",
   "execution_count": null,
   "id": "3ae04da5-9eca-47e6-a10d-cdb041e7aaae",
   "metadata": {},
   "outputs": [],
   "source": [
    "mdata.write_h5mu(\"data/processed/scRNAseq_snRNAseq_filteredQC.h5mu\")"
   ]
  },
  {
   "cell_type": "code",
   "execution_count": null,
   "id": "6bcc2e07-1df0-4594-8cae-5b45583ca37e",
   "metadata": {},
   "outputs": [],
   "source": []
  }
 ],
 "metadata": {
  "kernelspec": {
   "display_name": "Python 3 (ipykernel)",
   "language": "python",
   "name": "python3"
  },
  "language_info": {
   "codemirror_mode": {
    "name": "ipython",
    "version": 3
   },
   "file_extension": ".py",
   "mimetype": "text/x-python",
   "name": "python",
   "nbconvert_exporter": "python",
   "pygments_lexer": "ipython3",
   "version": "3.9.16"
  }
 },
 "nbformat": 4,
 "nbformat_minor": 5
}
