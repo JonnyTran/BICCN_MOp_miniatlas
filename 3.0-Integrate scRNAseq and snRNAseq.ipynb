{
 "cells": [
  {
   "cell_type": "markdown",
   "id": "57ab972b-13ab-4240-a200-6c04e6f5408e",
   "metadata": {},
   "source": [
    "# Import libraries"
   ]
  },
  {
   "cell_type": "code",
   "execution_count": 10,
   "id": "43ca30c3-e9fe-4314-b8d7-44a8bbb71e1c",
   "metadata": {},
   "outputs": [],
   "source": [
    "%load_ext autoreload\n",
    "%autoreload 2\n",
    "\n",
    "import tqdm, sys, os, time\n",
    "import pandas as pd\n",
    "import scipy as sp\n",
    "\n",
    "import scanpy as sc\n",
    "import anndata as ad\n",
    "import muon"
   ]
  },
  {
   "cell_type": "markdown",
   "id": "f640e9fd-49a7-4b59-b145-6552ee0422dd",
   "metadata": {},
   "source": [
    "## Load datasets"
   ]
  },
  {
   "cell_type": "code",
   "execution_count": 2,
   "id": "5690b241-2bcb-43d7-8f1b-b0c39f37c422",
   "metadata": {
    "scrolled": true
   },
   "outputs": [
    {
     "name": "stderr",
     "output_type": "stream",
     "text": [
      "/work/03637/nct7456/ls6/micromamba/lib/python3.9/site-packages/loompy/bus_file.py:68: NumbaDeprecationWarning: \u001b[1mThe 'nopython' keyword argument was not supplied to the 'numba.jit' decorator. The implicit default value for this argument is currently False, but it will be changed to True in Numba 0.59.0. See https://numba.readthedocs.io/en/stable/reference/deprecation.html#deprecation-of-object-mode-fall-back-behaviour-when-using-jit for details.\u001b[0m\n",
      "  def twobit_to_dna(twobit: int, size: int) -> str:\n",
      "/work/03637/nct7456/ls6/micromamba/lib/python3.9/site-packages/loompy/bus_file.py:85: NumbaDeprecationWarning: \u001b[1mThe 'nopython' keyword argument was not supplied to the 'numba.jit' decorator. The implicit default value for this argument is currently False, but it will be changed to True in Numba 0.59.0. See https://numba.readthedocs.io/en/stable/reference/deprecation.html#deprecation-of-object-mode-fall-back-behaviour-when-using-jit for details.\u001b[0m\n",
      "  def dna_to_twobit(dna: str) -> int:\n",
      "/work/03637/nct7456/ls6/micromamba/lib/python3.9/site-packages/loompy/bus_file.py:102: NumbaDeprecationWarning: \u001b[1mThe 'nopython' keyword argument was not supplied to the 'numba.jit' decorator. The implicit default value for this argument is currently False, but it will be changed to True in Numba 0.59.0. See https://numba.readthedocs.io/en/stable/reference/deprecation.html#deprecation-of-object-mode-fall-back-behaviour-when-using-jit for details.\u001b[0m\n",
      "  def twobit_1hamming(twobit: int, size: int) -> List[int]:\n",
      "/work/03637/nct7456/ls6/micromamba/lib/python3.9/site-packages/anndata/_core/anndata.py:117: ImplicitModificationWarning: Transforming to str index.\n",
      "  warnings.warn(\"Transforming to str index.\", ImplicitModificationWarning)\n",
      "/work/03637/nct7456/ls6/micromamba/lib/python3.9/site-packages/anndata/_core/anndata.py:117: ImplicitModificationWarning: Transforming to str index.\n",
      "  warnings.warn(\"Transforming to str index.\", ImplicitModificationWarning)\n"
     ]
    },
    {
     "data": {
      "text/plain": [
       "AnnData object with n_obs × n_vars = 176584 × 31053\n",
       "    obs: 'Amp_Date', 'Amp_Name', 'Amp_PCR_cyles', 'Cell_Capture', 'Donor', 'Gender', 'Lib_Cells', 'Lib_Date', 'Lib_Name', 'Lib_PCR_cycles', 'Lib_PassFail', 'Lib_type', 'Live_Cells', 'Live_percent', 'Mean_Reads_perCell', 'Median_Genes_perCell', 'Median_UMI_perCell', 'Region', 'Replicate_Lib', 'Saturation', 'Seq_batch', 'Total_Cells', 'aggr_num', 'barcode', 'class_label', 'cluster_color', 'cluster_id', 'cluster_label', 'doublet.score', 'exp_component_name', 'gene.counts', 'library_id', 'mapped_reads', 'method', 'nonconf_mapped_reads', 'size', 'subclass_label', 'total.reads', 'tube_barcode', 'umi.counts', 'unmapped_reads'\n",
       "    var: 'gene_id', 'gene_name', 'var_names'\n",
       "    obsm: 'X_pca'\n",
       "    varm: 'PCs'"
      ]
     },
     "execution_count": 2,
     "metadata": {},
     "output_type": "execute_result"
    }
   ],
   "source": [
    "ad_scrnaseq_A = muon.ad.read_loom(\"data/processed/scRNAseq_10x_v3_AIBS.loom\")\n",
    "ad_scrnaseq_A"
   ]
  },
  {
   "cell_type": "code",
   "execution_count": 9,
   "id": "c141b43b-ec8b-45bb-bafe-fdf7561e5ce7",
   "metadata": {},
   "outputs": [
    {
     "name": "stderr",
     "output_type": "stream",
     "text": [
      "/work/03637/nct7456/ls6/micromamba/lib/python3.9/site-packages/anndata/_core/anndata.py:117: ImplicitModificationWarning: Transforming to str index.\n",
      "  warnings.warn(\"Transforming to str index.\", ImplicitModificationWarning)\n",
      "/work/03637/nct7456/ls6/micromamba/lib/python3.9/site-packages/anndata/_core/anndata.py:117: ImplicitModificationWarning: Transforming to str index.\n",
      "  warnings.warn(\"Transforming to str index.\", ImplicitModificationWarning)\n"
     ]
    },
    {
     "data": {
      "text/plain": [
       "AnnData object with n_obs × n_vars = 215823 × 31053\n",
       "    obs: 'Allen.class_label', 'Allen.cluster_color', 'Allen.cluster_id', 'Allen.cluster_label', 'Allen.subclass_label', 'Broad.QC.Mito', 'Broad.QC.doublet', 'Broad.passQC', 'Comb.QC', 'MALE', 'QC', 'cl', 'class_label', 'cluster', 'cluster_color', 'cluster_id', 'cluster_label', 'comb.QC', 'dataset', 'gene.counts', 'nGene', 'nUMI', 'sample_name', 'size', 'subclass_label', 'umi.counts'\n",
       "    var: 'gene_name'\n",
       "    obsm: 'X_pca'\n",
       "    varm: 'PCs'"
      ]
     },
     "execution_count": 9,
     "metadata": {},
     "output_type": "execute_result"
    }
   ],
   "source": [
    "ad_snrnaseq_B = muon.ad.read_loom(\"data/processed/snRNAseq_10x_v3_Broad.loom\")\n",
    "ad_snrnaseq_B"
   ]
  },
  {
   "cell_type": "code",
   "execution_count": 11,
   "id": "5e276f94-c5c0-42c4-be81-64ce0e735e1b",
   "metadata": {},
   "outputs": [
    {
     "name": "stderr",
     "output_type": "stream",
     "text": [
      "/work/03637/nct7456/ls6/micromamba/lib/python3.9/site-packages/mudata/_core/mudata.py:457: UserWarning: Cannot join columns with the same name because var_names are intersecting.\n",
      "  warnings.warn(\n"
     ]
    },
    {
     "data": {
      "text/html": [
       "<pre>MuData object with n_obs × n_vars = 215823 × 62106\n",
       "  2 modalities\n",
       "    scrna_A:\t176584 x 31053\n",
       "      obs:\t&#x27;Amp_Date&#x27;, &#x27;Amp_Name&#x27;, &#x27;Amp_PCR_cyles&#x27;, &#x27;Cell_Capture&#x27;, &#x27;Donor&#x27;, &#x27;Gender&#x27;, &#x27;Lib_Cells&#x27;, &#x27;Lib_Date&#x27;, &#x27;Lib_Name&#x27;, &#x27;Lib_PCR_cycles&#x27;, &#x27;Lib_PassFail&#x27;, &#x27;Lib_type&#x27;, &#x27;Live_Cells&#x27;, &#x27;Live_percent&#x27;, &#x27;Mean_Reads_perCell&#x27;, &#x27;Median_Genes_perCell&#x27;, &#x27;Median_UMI_perCell&#x27;, &#x27;Region&#x27;, &#x27;Replicate_Lib&#x27;, &#x27;Saturation&#x27;, &#x27;Seq_batch&#x27;, &#x27;Total_Cells&#x27;, &#x27;aggr_num&#x27;, &#x27;barcode&#x27;, &#x27;class_label&#x27;, &#x27;cluster_color&#x27;, &#x27;cluster_id&#x27;, &#x27;cluster_label&#x27;, &#x27;doublet.score&#x27;, &#x27;exp_component_name&#x27;, &#x27;gene.counts&#x27;, &#x27;library_id&#x27;, &#x27;mapped_reads&#x27;, &#x27;method&#x27;, &#x27;nonconf_mapped_reads&#x27;, &#x27;size&#x27;, &#x27;subclass_label&#x27;, &#x27;total.reads&#x27;, &#x27;tube_barcode&#x27;, &#x27;umi.counts&#x27;, &#x27;unmapped_reads&#x27;\n",
       "      var:\t&#x27;gene_id&#x27;, &#x27;gene_name&#x27;, &#x27;var_names&#x27;\n",
       "      obsm:\t&#x27;X_pca&#x27;\n",
       "      varm:\t&#x27;PCs&#x27;\n",
       "    snrna_B:\t215823 x 31053\n",
       "      obs:\t&#x27;Allen.class_label&#x27;, &#x27;Allen.cluster_color&#x27;, &#x27;Allen.cluster_id&#x27;, &#x27;Allen.cluster_label&#x27;, &#x27;Allen.subclass_label&#x27;, &#x27;Broad.QC.Mito&#x27;, &#x27;Broad.QC.doublet&#x27;, &#x27;Broad.passQC&#x27;, &#x27;Comb.QC&#x27;, &#x27;MALE&#x27;, &#x27;QC&#x27;, &#x27;cl&#x27;, &#x27;class_label&#x27;, &#x27;cluster&#x27;, &#x27;cluster_color&#x27;, &#x27;cluster_id&#x27;, &#x27;cluster_label&#x27;, &#x27;comb.QC&#x27;, &#x27;dataset&#x27;, &#x27;gene.counts&#x27;, &#x27;nGene&#x27;, &#x27;nUMI&#x27;, &#x27;sample_name&#x27;, &#x27;size&#x27;, &#x27;subclass_label&#x27;, &#x27;umi.counts&#x27;\n",
       "      var:\t&#x27;gene_name&#x27;\n",
       "      obsm:\t&#x27;X_pca&#x27;\n",
       "      varm:\t&#x27;PCs&#x27;</pre>"
      ],
      "text/plain": [
       "MuData object with n_obs × n_vars = 215823 × 62106\n",
       "  2 modalities\n",
       "    scrna_A:\t176584 x 31053\n",
       "      obs:\t'Amp_Date', 'Amp_Name', 'Amp_PCR_cyles', 'Cell_Capture', 'Donor', 'Gender', 'Lib_Cells', 'Lib_Date', 'Lib_Name', 'Lib_PCR_cycles', 'Lib_PassFail', 'Lib_type', 'Live_Cells', 'Live_percent', 'Mean_Reads_perCell', 'Median_Genes_perCell', 'Median_UMI_perCell', 'Region', 'Replicate_Lib', 'Saturation', 'Seq_batch', 'Total_Cells', 'aggr_num', 'barcode', 'class_label', 'cluster_color', 'cluster_id', 'cluster_label', 'doublet.score', 'exp_component_name', 'gene.counts', 'library_id', 'mapped_reads', 'method', 'nonconf_mapped_reads', 'size', 'subclass_label', 'total.reads', 'tube_barcode', 'umi.counts', 'unmapped_reads'\n",
       "      var:\t'gene_id', 'gene_name', 'var_names'\n",
       "      obsm:\t'X_pca'\n",
       "      varm:\t'PCs'\n",
       "    snrna_B:\t215823 x 31053\n",
       "      obs:\t'Allen.class_label', 'Allen.cluster_color', 'Allen.cluster_id', 'Allen.cluster_label', 'Allen.subclass_label', 'Broad.QC.Mito', 'Broad.QC.doublet', 'Broad.passQC', 'Comb.QC', 'MALE', 'QC', 'cl', 'class_label', 'cluster', 'cluster_color', 'cluster_id', 'cluster_label', 'comb.QC', 'dataset', 'gene.counts', 'nGene', 'nUMI', 'sample_name', 'size', 'subclass_label', 'umi.counts'\n",
       "      var:\t'gene_name'\n",
       "      obsm:\t'X_pca'\n",
       "      varm:\t'PCs'"
      ]
     },
     "execution_count": 11,
     "metadata": {},
     "output_type": "execute_result"
    }
   ],
   "source": [
    "mdata = muon.MuData({\"scrna_A\": ad_scrnaseq_A.copy(), \"snrna_B\": ad_snrnaseq_B.copy()}, axis=0)\n",
    "# Now rna is count-based and log_norm_rna is log-normalized\n",
    "# mdata.mod[\"rna\"].X = mdata.mod[\"rna\"].layers[\"counts\"]\n",
    "# del mdata.mod[\"rna\"].raw\n",
    "# del mdata.mod[\"rna\"].layers[\"counts\"]\n",
    "# del mdata.mod[\"log_norm_rna\"].layers[\"counts\"]\n",
    "mdata"
   ]
  },
  {
   "cell_type": "code",
   "execution_count": null,
   "id": "ff7dba1e-909b-4b30-9534-fb526d74b5df",
   "metadata": {},
   "outputs": [],
   "source": []
  }
 ],
 "metadata": {
  "kernelspec": {
   "display_name": "Python 3 (ipykernel)",
   "language": "python",
   "name": "python3"
  },
  "language_info": {
   "codemirror_mode": {
    "name": "ipython",
    "version": 3
   },
   "file_extension": ".py",
   "mimetype": "text/x-python",
   "name": "python",
   "nbconvert_exporter": "python",
   "pygments_lexer": "ipython3",
   "version": "3.9.15"
  }
 },
 "nbformat": 4,
 "nbformat_minor": 5
}
