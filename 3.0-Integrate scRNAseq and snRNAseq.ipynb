{
 "cells": [
  {
   "cell_type": "markdown",
   "id": "57ab972b-13ab-4240-a200-6c04e6f5408e",
   "metadata": {},
   "source": [
    "# Import libraries"
   ]
  },
  {
   "cell_type": "code",
   "execution_count": 1,
   "id": "43ca30c3-e9fe-4314-b8d7-44a8bbb71e1c",
   "metadata": {
    "scrolled": true
   },
   "outputs": [
    {
     "name": "stderr",
     "output_type": "stream",
     "text": [
      "/opt/anaconda3/lib/python3.9/site-packages/umap/distances.py:1063: NumbaDeprecationWarning: \u001b[1mThe 'nopython' keyword argument was not supplied to the 'numba.jit' decorator. The implicit default value for this argument is currently False, but it will be changed to True in Numba 0.59.0. See https://numba.readthedocs.io/en/stable/reference/deprecation.html#deprecation-of-object-mode-fall-back-behaviour-when-using-jit for details.\u001b[0m\n",
      "  @numba.jit()\n",
      "/opt/anaconda3/lib/python3.9/site-packages/umap/distances.py:1071: NumbaDeprecationWarning: \u001b[1mThe 'nopython' keyword argument was not supplied to the 'numba.jit' decorator. The implicit default value for this argument is currently False, but it will be changed to True in Numba 0.59.0. See https://numba.readthedocs.io/en/stable/reference/deprecation.html#deprecation-of-object-mode-fall-back-behaviour-when-using-jit for details.\u001b[0m\n",
      "  @numba.jit()\n",
      "/opt/anaconda3/lib/python3.9/site-packages/umap/distances.py:1086: NumbaDeprecationWarning: \u001b[1mThe 'nopython' keyword argument was not supplied to the 'numba.jit' decorator. The implicit default value for this argument is currently False, but it will be changed to True in Numba 0.59.0. See https://numba.readthedocs.io/en/stable/reference/deprecation.html#deprecation-of-object-mode-fall-back-behaviour-when-using-jit for details.\u001b[0m\n",
      "  @numba.jit()\n",
      "/opt/anaconda3/lib/python3.9/site-packages/umap/umap_.py:660: NumbaDeprecationWarning: \u001b[1mThe 'nopython' keyword argument was not supplied to the 'numba.jit' decorator. The implicit default value for this argument is currently False, but it will be changed to True in Numba 0.59.0. See https://numba.readthedocs.io/en/stable/reference/deprecation.html#deprecation-of-object-mode-fall-back-behaviour-when-using-jit for details.\u001b[0m\n",
      "  @numba.jit()\n"
     ]
    }
   ],
   "source": [
    "%load_ext autoreload\n",
    "%autoreload 2\n",
    "\n",
    "import tqdm, sys, os, time, logging\n",
    "logger = logging.getLogger(\"numba\")\n",
    "logger.setLevel(logging.ERROR)\n",
    "\n",
    "import pandas as pd\n",
    "import numpy as np\n",
    "import scipy as sp\n",
    "import scipy.sparse as sps\n",
    "\n",
    "import scanpy as sc\n",
    "import anndata as ad\n",
    "import muon as mu\n",
    "\n",
    "from sklearn.metrics import adjusted_rand_score as ari"
   ]
  },
  {
   "cell_type": "markdown",
   "id": "f640e9fd-49a7-4b59-b145-6552ee0422dd",
   "metadata": {},
   "source": [
    "## Load and preprocess individual datasets"
   ]
  },
  {
   "cell_type": "markdown",
   "id": "47d89337-8fd0-4ce1-b08a-1e08f66ff611",
   "metadata": {},
   "source": [
    "### scRNA-seq A"
   ]
  },
  {
   "cell_type": "code",
   "execution_count": 3,
   "id": "5690b241-2bcb-43d7-8f1b-b0c39f37c422",
   "metadata": {
    "scrolled": true
   },
   "outputs": [
    {
     "name": "stderr",
     "output_type": "stream",
     "text": [
      "/opt/anaconda3/lib/python3.9/site-packages/loompy/bus_file.py:68: NumbaDeprecationWarning: \u001b[1mThe 'nopython' keyword argument was not supplied to the 'numba.jit' decorator. The implicit default value for this argument is currently False, but it will be changed to True in Numba 0.59.0. See https://numba.readthedocs.io/en/stable/reference/deprecation.html#deprecation-of-object-mode-fall-back-behaviour-when-using-jit for details.\u001b[0m\n",
      "  def twobit_to_dna(twobit: int, size: int) -> str:\n",
      "/opt/anaconda3/lib/python3.9/site-packages/loompy/bus_file.py:85: NumbaDeprecationWarning: \u001b[1mThe 'nopython' keyword argument was not supplied to the 'numba.jit' decorator. The implicit default value for this argument is currently False, but it will be changed to True in Numba 0.59.0. See https://numba.readthedocs.io/en/stable/reference/deprecation.html#deprecation-of-object-mode-fall-back-behaviour-when-using-jit for details.\u001b[0m\n",
      "  def dna_to_twobit(dna: str) -> int:\n",
      "/opt/anaconda3/lib/python3.9/site-packages/loompy/bus_file.py:102: NumbaDeprecationWarning: \u001b[1mThe 'nopython' keyword argument was not supplied to the 'numba.jit' decorator. The implicit default value for this argument is currently False, but it will be changed to True in Numba 0.59.0. See https://numba.readthedocs.io/en/stable/reference/deprecation.html#deprecation-of-object-mode-fall-back-behaviour-when-using-jit for details.\u001b[0m\n",
      "  def twobit_1hamming(twobit: int, size: int) -> List[int]:\n",
      "/opt/anaconda3/lib/python3.9/site-packages/anndata/_core/anndata.py:117: ImplicitModificationWarning: Transforming to str index.\n",
      "  warnings.warn(\"Transforming to str index.\", ImplicitModificationWarning)\n",
      "/opt/anaconda3/lib/python3.9/site-packages/anndata/_core/anndata.py:117: ImplicitModificationWarning: Transforming to str index.\n",
      "  warnings.warn(\"Transforming to str index.\", ImplicitModificationWarning)\n"
     ]
    }
   ],
   "source": [
    "ad_scrnaseq_A = mu.ad.read_loom(\"data/processed/scRNAseq_10x_v3_AIBS.loom\", sparse=True)\n",
    "ad_scrnaseq_A.obs.replace('nan', None, inplace=True)\n",
    "\n",
    "ad_scrnaseq_A.obs.set_index(\"sample_name\", inplace=True)\n",
    "ad_scrnaseq_A.var.set_index(\"gene_name\", inplace=True)"
   ]
  },
  {
   "cell_type": "code",
   "execution_count": 4,
   "id": "c8958528-b304-437f-b46a-347565881bef",
   "metadata": {},
   "outputs": [],
   "source": [
    "nonzero_gene_counts = pd.Series(np.array((ad_scrnaseq_A.X>0).sum(1)).flatten(),\n",
    "                                index=ad_scrnaseq_A.obs.index)\n",
    "ad_scrnaseq_A.obs['gene.counts'] = ad_scrnaseq_A.obs['gene.counts'].combine_first(nonzero_gene_counts)\n",
    "\n",
    "ad_scrnaseq_A.obs['doublet.score'].fillna(0.0, inplace=True)"
   ]
  },
  {
   "cell_type": "code",
   "execution_count": 6,
   "id": "4466b46f-ed59-4974-bcfd-72cc30992c57",
   "metadata": {},
   "outputs": [
    {
     "data": {
      "text/plain": [
       "View of AnnData object with n_obs × n_vars = 74132 × 31053\n",
       "    obs: 'Amp_Date', 'Amp_Name', 'Amp_PCR_cyles', 'Cell_Capture', 'Donor', 'Gender', 'Lib_Cells', 'Lib_Date', 'Lib_Name', 'Lib_PCR_cycles', 'Lib_PassFail', 'Lib_type', 'Live_Cells', 'Live_percent', 'Mean_Reads_perCell', 'Median_Genes_perCell', 'Median_UMI_perCell', 'Region', 'Replicate_Lib', 'Saturation', 'Seq_batch', 'Total_Cells', 'aggr_num', 'class_label', 'cluster_color', 'cluster_id', 'cluster_label', 'doublet.score', 'exp_component_name', 'gene.counts', 'library_id', 'mapped_reads', 'method', 'nonconf_mapped_reads', 'size', 'subclass_label', 'total.reads', 'tube_barcode', 'umi.counts', 'unmapped_reads'\n",
       "    var: 'gene_id'"
      ]
     },
     "execution_count": 6,
     "metadata": {},
     "output_type": "execute_result"
    }
   ],
   "source": [
    "def filter_cell_A(s):\n",
    "    if s['class_label'] == 'Low Quality':\n",
    "        return False\n",
    "\n",
    "    condition = True\n",
    "    \n",
    "    # Gene count\n",
    "    if s['class_label'] == 'Non-Neuronal':\n",
    "        condition = condition & (s['gene.counts'] >= 1000)\n",
    "    else:\n",
    "        condition = condition & (s['gene.counts'] >= 2000)\n",
    "\n",
    "    # Doublet cells\n",
    "    condition = condition & (s['doublet.score'] <= 0.3)\n",
    "\n",
    "    return condition\n",
    "    \n",
    "ad_scrnaseq_A = ad_scrnaseq_A[ad_scrnaseq_A.obs.apply(filter_cell_A, axis=1), :]\n",
    "ad_scrnaseq_A"
   ]
  },
  {
   "cell_type": "markdown",
   "id": "58f5b338-b549-43ac-9ab3-db37edce2550",
   "metadata": {},
   "source": [
    "### snRNA-seq B"
   ]
  },
  {
   "cell_type": "code",
   "execution_count": 9,
   "id": "c141b43b-ec8b-45bb-bafe-fdf7561e5ce7",
   "metadata": {},
   "outputs": [],
   "source": [
    "ad_snrnaseq_B = mu.ad.read_loom(\"data/processed/snRNAseq_10x_v3_Broad.loom\")\n",
    "ad_snrnaseq_B.obs.replace('nan', None, inplace=True)\n",
    "\n",
    "ad_snrnaseq_B.obs.set_index(\"sample_name\", inplace=True)\n",
    "ad_snrnaseq_B.var.set_index(\"gene_name\", inplace=True)"
   ]
  },
  {
   "cell_type": "code",
   "execution_count": 10,
   "id": "ad111382-ae67-405c-b5dc-4045ae25e43e",
   "metadata": {},
   "outputs": [
    {
     "data": {
      "text/plain": [
       "AnnData object with n_obs × n_vars = 215823 × 31053\n",
       "    obs: 'Allen.class_label', 'Allen.cluster_color', 'Allen.cluster_id', 'Allen.cluster_label', 'Allen.subclass_label', 'Broad.QC.Mito', 'Broad.QC.doublet', 'Broad.passQC', 'Comb.QC', 'MALE', 'QC', 'cl', 'class_label', 'cluster', 'cluster_color', 'cluster_id', 'cluster_label', 'comb.QC', 'dataset', 'gene.counts', 'nGene', 'nUMI', 'size', 'subclass_label', 'umi.counts'\n",
       "    var: 'gene_id'"
      ]
     },
     "execution_count": 10,
     "metadata": {},
     "output_type": "execute_result"
    }
   ],
   "source": [
    "ad_snrnaseq_B"
   ]
  },
  {
   "cell_type": "markdown",
   "id": "d9f05e76-160a-4401-9e27-86467e713d8e",
   "metadata": {},
   "source": [
    "## Filtering low QC genes & cells"
   ]
  },
  {
   "cell_type": "code",
   "execution_count": 11,
   "id": "ef4a777c-938d-4650-b800-848d8c469d9a",
   "metadata": {},
   "outputs": [],
   "source": [
    "nonzero_gene_counts = pd.Series(np.array((ad_snrnaseq_B.X>0).sum(1)).flatten(),\n",
    "                                index=ad_snrnaseq_B.obs.index)\n",
    "ad_snrnaseq_B.obs['gene.counts'] = ad_snrnaseq_B.obs['gene.counts'].combine_first(nonzero_gene_counts)\n",
    "\n",
    "ad_snrnaseq_B.obs['Broad.QC.doublet'].fillna(0.0, inplace=True)"
   ]
  },
  {
   "cell_type": "code",
   "execution_count": 12,
   "id": "381f8f75-da72-4a80-8115-b0cfc873fa38",
   "metadata": {},
   "outputs": [
    {
     "data": {
      "text/plain": [
       "View of AnnData object with n_obs × n_vars = 184423 × 31053\n",
       "    obs: 'Allen.class_label', 'Allen.cluster_color', 'Allen.cluster_id', 'Allen.cluster_label', 'Allen.subclass_label', 'Broad.QC.Mito', 'Broad.QC.doublet', 'Broad.passQC', 'Comb.QC', 'MALE', 'QC', 'cl', 'class_label', 'cluster', 'cluster_color', 'cluster_id', 'cluster_label', 'comb.QC', 'dataset', 'gene.counts', 'nGene', 'nUMI', 'size', 'subclass_label', 'umi.counts'\n",
       "    var: 'gene_id'"
      ]
     },
     "execution_count": 12,
     "metadata": {},
     "output_type": "execute_result"
    }
   ],
   "source": [
    "def filter_cell_B(s):\n",
    "    if s['class_label'] == 'Low Quality':\n",
    "        return False\n",
    "    \n",
    "    condition = True\n",
    "\n",
    "    # Gene count\n",
    "    if s['class_label'] == 'Non-Neuronal':\n",
    "        condition = condition & (s['gene.counts'] >= 500)\n",
    "    else:\n",
    "        condition = condition & (s['gene.counts'] >= 1000)\n",
    "\n",
    "    # Doublet cells\n",
    "    condition = condition & (s['Broad.QC.doublet'] <= 0.3)\n",
    "\n",
    "    return condition\n",
    "\n",
    "ad_snrnaseq_B = ad_snrnaseq_B[ad_snrnaseq_B.obs.apply(filter_cell_B, axis=1), :]\n",
    "ad_snrnaseq_B"
   ]
  },
  {
   "cell_type": "code",
   "execution_count": 10,
   "id": "4cf63b7d-2a43-4873-9f1e-530f9f5efbd6",
   "metadata": {},
   "outputs": [],
   "source": [
    "assert (ad_snrnaseq_B.var.index == ad_scrnaseq_A.var.index).all()\n",
    "ad_scrnaseq_A.var = ad_scrnaseq_A.var.reset_index().set_index('gene_id')\n",
    "ad_snrnaseq_B.var = ad_scrnaseq_A.var"
   ]
  },
  {
   "cell_type": "code",
   "execution_count": 14,
   "id": "e3472c4a-929f-42f8-ba10-bc9532dd7f8e",
   "metadata": {},
   "outputs": [
    {
     "data": {
      "text/plain": [
       "(False, False)"
      ]
     },
     "execution_count": 14,
     "metadata": {},
     "output_type": "execute_result"
    }
   ],
   "source": [
    "ad_scrnaseq_A.var.index.duplicated().any(), ad_snrnaseq_B.var.index.duplicated().any()"
   ]
  },
  {
   "cell_type": "markdown",
   "id": "fea68591-a862-40d2-b8c3-b73235bff5c6",
   "metadata": {},
   "source": [
    "# Integrate cells from multiple dataset"
   ]
  },
  {
   "cell_type": "code",
   "execution_count": 15,
   "id": "5e276f94-c5c0-42c4-be81-64ce0e735e1b",
   "metadata": {},
   "outputs": [
    {
     "data": {
      "text/html": [
       "<pre>MuData object with n_obs × n_vars = 258555 × 31053\n",
       "  obs:\t&#x27;class_label&#x27;, &#x27;cluster_color&#x27;, &#x27;cluster_id&#x27;, &#x27;cluster_label&#x27;, &#x27;gene.counts&#x27;, &#x27;size&#x27;, &#x27;subclass_label&#x27;, &#x27;umi.counts&#x27;\n",
       "  2 modalities\n",
       "    scrna:\t74132 x 31053\n",
       "      obs:\t&#x27;Amp_Date&#x27;, &#x27;Amp_Name&#x27;, &#x27;Amp_PCR_cyles&#x27;, &#x27;Cell_Capture&#x27;, &#x27;Donor&#x27;, &#x27;Gender&#x27;, &#x27;Lib_Cells&#x27;, &#x27;Lib_Date&#x27;, &#x27;Lib_Name&#x27;, &#x27;Lib_PCR_cycles&#x27;, &#x27;Lib_PassFail&#x27;, &#x27;Lib_type&#x27;, &#x27;Live_Cells&#x27;, &#x27;Live_percent&#x27;, &#x27;Mean_Reads_perCell&#x27;, &#x27;Median_Genes_perCell&#x27;, &#x27;Median_UMI_perCell&#x27;, &#x27;Region&#x27;, &#x27;Replicate_Lib&#x27;, &#x27;Saturation&#x27;, &#x27;Seq_batch&#x27;, &#x27;Total_Cells&#x27;, &#x27;aggr_num&#x27;, &#x27;class_label&#x27;, &#x27;cluster_color&#x27;, &#x27;cluster_id&#x27;, &#x27;cluster_label&#x27;, &#x27;doublet.score&#x27;, &#x27;exp_component_name&#x27;, &#x27;gene.counts&#x27;, &#x27;library_id&#x27;, &#x27;mapped_reads&#x27;, &#x27;method&#x27;, &#x27;nonconf_mapped_reads&#x27;, &#x27;size&#x27;, &#x27;subclass_label&#x27;, &#x27;total.reads&#x27;, &#x27;tube_barcode&#x27;, &#x27;umi.counts&#x27;, &#x27;unmapped_reads&#x27;\n",
       "      var:\t&#x27;gene_id&#x27;\n",
       "    snrna:\t184423 x 31053\n",
       "      obs:\t&#x27;Allen.class_label&#x27;, &#x27;Allen.cluster_color&#x27;, &#x27;Allen.cluster_id&#x27;, &#x27;Allen.cluster_label&#x27;, &#x27;Allen.subclass_label&#x27;, &#x27;Broad.QC.Mito&#x27;, &#x27;Broad.QC.doublet&#x27;, &#x27;Broad.passQC&#x27;, &#x27;Comb.QC&#x27;, &#x27;MALE&#x27;, &#x27;QC&#x27;, &#x27;cl&#x27;, &#x27;class_label&#x27;, &#x27;cluster&#x27;, &#x27;cluster_color&#x27;, &#x27;cluster_id&#x27;, &#x27;cluster_label&#x27;, &#x27;comb.QC&#x27;, &#x27;dataset&#x27;, &#x27;gene.counts&#x27;, &#x27;nGene&#x27;, &#x27;nUMI&#x27;, &#x27;size&#x27;, &#x27;subclass_label&#x27;, &#x27;umi.counts&#x27;\n",
       "      var:\t&#x27;gene_id&#x27;</pre>"
      ],
      "text/plain": [
       "MuData object with n_obs × n_vars = 258555 × 31053\n",
       "  obs:\t'class_label', 'cluster_color', 'cluster_id', 'cluster_label', 'gene.counts', 'size', 'subclass_label', 'umi.counts'\n",
       "  2 modalities\n",
       "    scrna:\t74132 x 31053\n",
       "      obs:\t'Amp_Date', 'Amp_Name', 'Amp_PCR_cyles', 'Cell_Capture', 'Donor', 'Gender', 'Lib_Cells', 'Lib_Date', 'Lib_Name', 'Lib_PCR_cycles', 'Lib_PassFail', 'Lib_type', 'Live_Cells', 'Live_percent', 'Mean_Reads_perCell', 'Median_Genes_perCell', 'Median_UMI_perCell', 'Region', 'Replicate_Lib', 'Saturation', 'Seq_batch', 'Total_Cells', 'aggr_num', 'class_label', 'cluster_color', 'cluster_id', 'cluster_label', 'doublet.score', 'exp_component_name', 'gene.counts', 'library_id', 'mapped_reads', 'method', 'nonconf_mapped_reads', 'size', 'subclass_label', 'total.reads', 'tube_barcode', 'umi.counts', 'unmapped_reads'\n",
       "      var:\t'gene_id'\n",
       "    snrna:\t184423 x 31053\n",
       "      obs:\t'Allen.class_label', 'Allen.cluster_color', 'Allen.cluster_id', 'Allen.cluster_label', 'Allen.subclass_label', 'Broad.QC.Mito', 'Broad.QC.doublet', 'Broad.passQC', 'Comb.QC', 'MALE', 'QC', 'cl', 'class_label', 'cluster', 'cluster_color', 'cluster_id', 'cluster_label', 'comb.QC', 'dataset', 'gene.counts', 'nGene', 'nUMI', 'size', 'subclass_label', 'umi.counts'\n",
       "      var:\t'gene_id'"
      ]
     },
     "execution_count": 15,
     "metadata": {},
     "output_type": "execute_result"
    }
   ],
   "source": [
    "mdata = mu.MuData({\"scrna\": ad_scrnaseq_A, \n",
    "                   \"snrna\": ad_snrnaseq_B}, \n",
    "                    axis=1)\n",
    "mdata"
   ]
  },
  {
   "cell_type": "code",
   "execution_count": 20,
   "id": "ff2b0391-9f96-44da-8dea-af321a497bf1",
   "metadata": {
    "scrolled": true
   },
   "outputs": [],
   "source": [
    "mdata.X = sps.vstack([mdata['scrna'].X, mdata['snrna'].X])"
   ]
  },
  {
   "cell_type": "code",
   "execution_count": 28,
   "id": "01b3e4a1-9adc-4cea-b8cf-be262acf47ca",
   "metadata": {},
   "outputs": [
    {
     "data": {
      "text/html": [
       "<pre>MuData object with n_obs × n_vars = 258555 × 31053\n",
       "  obs:\t&#x27;class_label&#x27;, &#x27;cluster_color&#x27;, &#x27;cluster_id&#x27;, &#x27;cluster_label&#x27;, &#x27;gene.counts&#x27;, &#x27;size&#x27;, &#x27;subclass_label&#x27;, &#x27;umi.counts&#x27;\n",
       "  2 modalities\n",
       "    scrna:\t74132 x 31053\n",
       "      obs:\t&#x27;Amp_Date&#x27;, &#x27;Amp_Name&#x27;, &#x27;Amp_PCR_cyles&#x27;, &#x27;Cell_Capture&#x27;, &#x27;Donor&#x27;, &#x27;Gender&#x27;, &#x27;Lib_Cells&#x27;, &#x27;Lib_Date&#x27;, &#x27;Lib_Name&#x27;, &#x27;Lib_PCR_cycles&#x27;, &#x27;Lib_PassFail&#x27;, &#x27;Lib_type&#x27;, &#x27;Live_Cells&#x27;, &#x27;Live_percent&#x27;, &#x27;Mean_Reads_perCell&#x27;, &#x27;Median_Genes_perCell&#x27;, &#x27;Median_UMI_perCell&#x27;, &#x27;Region&#x27;, &#x27;Replicate_Lib&#x27;, &#x27;Saturation&#x27;, &#x27;Seq_batch&#x27;, &#x27;Total_Cells&#x27;, &#x27;aggr_num&#x27;, &#x27;class_label&#x27;, &#x27;cluster_color&#x27;, &#x27;cluster_id&#x27;, &#x27;cluster_label&#x27;, &#x27;doublet.score&#x27;, &#x27;exp_component_name&#x27;, &#x27;gene.counts&#x27;, &#x27;library_id&#x27;, &#x27;mapped_reads&#x27;, &#x27;method&#x27;, &#x27;nonconf_mapped_reads&#x27;, &#x27;size&#x27;, &#x27;subclass_label&#x27;, &#x27;total.reads&#x27;, &#x27;tube_barcode&#x27;, &#x27;umi.counts&#x27;, &#x27;unmapped_reads&#x27;\n",
       "      var:\t&#x27;gene_id&#x27;\n",
       "    snrna:\t184423 x 31053\n",
       "      obs:\t&#x27;Allen.class_label&#x27;, &#x27;Allen.cluster_color&#x27;, &#x27;Allen.cluster_id&#x27;, &#x27;Allen.cluster_label&#x27;, &#x27;Allen.subclass_label&#x27;, &#x27;Broad.QC.Mito&#x27;, &#x27;Broad.QC.doublet&#x27;, &#x27;Broad.passQC&#x27;, &#x27;Comb.QC&#x27;, &#x27;MALE&#x27;, &#x27;QC&#x27;, &#x27;cl&#x27;, &#x27;class_label&#x27;, &#x27;cluster&#x27;, &#x27;cluster_color&#x27;, &#x27;cluster_id&#x27;, &#x27;cluster_label&#x27;, &#x27;comb.QC&#x27;, &#x27;dataset&#x27;, &#x27;gene.counts&#x27;, &#x27;nGene&#x27;, &#x27;nUMI&#x27;, &#x27;size&#x27;, &#x27;subclass_label&#x27;, &#x27;umi.counts&#x27;\n",
       "      var:\t&#x27;gene_id&#x27;</pre>"
      ],
      "text/plain": [
       "MuData object with n_obs × n_vars = 258555 × 31053\n",
       "  obs:\t'class_label', 'cluster_color', 'cluster_id', 'cluster_label', 'gene.counts', 'size', 'subclass_label', 'umi.counts'\n",
       "  2 modalities\n",
       "    scrna:\t74132 x 31053\n",
       "      obs:\t'Amp_Date', 'Amp_Name', 'Amp_PCR_cyles', 'Cell_Capture', 'Donor', 'Gender', 'Lib_Cells', 'Lib_Date', 'Lib_Name', 'Lib_PCR_cycles', 'Lib_PassFail', 'Lib_type', 'Live_Cells', 'Live_percent', 'Mean_Reads_perCell', 'Median_Genes_perCell', 'Median_UMI_perCell', 'Region', 'Replicate_Lib', 'Saturation', 'Seq_batch', 'Total_Cells', 'aggr_num', 'class_label', 'cluster_color', 'cluster_id', 'cluster_label', 'doublet.score', 'exp_component_name', 'gene.counts', 'library_id', 'mapped_reads', 'method', 'nonconf_mapped_reads', 'size', 'subclass_label', 'total.reads', 'tube_barcode', 'umi.counts', 'unmapped_reads'\n",
       "      var:\t'gene_id'\n",
       "    snrna:\t184423 x 31053\n",
       "      obs:\t'Allen.class_label', 'Allen.cluster_color', 'Allen.cluster_id', 'Allen.cluster_label', 'Allen.subclass_label', 'Broad.QC.Mito', 'Broad.QC.doublet', 'Broad.passQC', 'Comb.QC', 'MALE', 'QC', 'cl', 'class_label', 'cluster', 'cluster_color', 'cluster_id', 'cluster_label', 'comb.QC', 'dataset', 'gene.counts', 'nGene', 'nUMI', 'size', 'subclass_label', 'umi.counts'\n",
       "      var:\t'gene_id'"
      ]
     },
     "execution_count": 28,
     "metadata": {},
     "output_type": "execute_result"
    }
   ],
   "source": [
    "mdata.update()\n",
    "mdata"
   ]
  },
  {
   "cell_type": "markdown",
   "id": "b6c9f95e-b234-4f82-81e9-58e0dfab123e",
   "metadata": {},
   "source": [
    "## Save"
   ]
  },
  {
   "cell_type": "code",
   "execution_count": 33,
   "id": "d3409bd7-b4f9-491b-b494-721453fdef8e",
   "metadata": {},
   "outputs": [],
   "source": [
    "mdata['snrna'].obs['Comb.QC'].fillna(\"nan\", inplace=True)"
   ]
  },
  {
   "cell_type": "code",
   "execution_count": 34,
   "id": "3ae04da5-9eca-47e6-a10d-cdb041e7aaae",
   "metadata": {},
   "outputs": [
    {
     "name": "stderr",
     "output_type": "stream",
     "text": [
      "/opt/anaconda3/lib/python3.9/site-packages/anndata/_core/anndata.py:1222: SettingWithCopyWarning: \n",
      "A value is trying to be set on a copy of a slice from a DataFrame.\n",
      "Try using .loc[row_indexer,col_indexer] = value instead\n",
      "\n",
      "See the caveats in the documentation: https://pandas.pydata.org/pandas-docs/stable/user_guide/indexing.html#returning-a-view-versus-a-copy\n",
      "  df[key] = c\n",
      "/opt/anaconda3/lib/python3.9/site-packages/anndata/_core/anndata.py:1222: SettingWithCopyWarning: \n",
      "A value is trying to be set on a copy of a slice from a DataFrame.\n",
      "Try using .loc[row_indexer,col_indexer] = value instead\n",
      "\n",
      "See the caveats in the documentation: https://pandas.pydata.org/pandas-docs/stable/user_guide/indexing.html#returning-a-view-versus-a-copy\n",
      "  df[key] = c\n",
      "/opt/anaconda3/lib/python3.9/site-packages/anndata/_core/anndata.py:1222: SettingWithCopyWarning: \n",
      "A value is trying to be set on a copy of a slice from a DataFrame.\n",
      "Try using .loc[row_indexer,col_indexer] = value instead\n",
      "\n",
      "See the caveats in the documentation: https://pandas.pydata.org/pandas-docs/stable/user_guide/indexing.html#returning-a-view-versus-a-copy\n",
      "  df[key] = c\n",
      "/opt/anaconda3/lib/python3.9/site-packages/anndata/_core/anndata.py:1222: SettingWithCopyWarning: \n",
      "A value is trying to be set on a copy of a slice from a DataFrame.\n",
      "Try using .loc[row_indexer,col_indexer] = value instead\n",
      "\n",
      "See the caveats in the documentation: https://pandas.pydata.org/pandas-docs/stable/user_guide/indexing.html#returning-a-view-versus-a-copy\n",
      "  df[key] = c\n",
      "/opt/anaconda3/lib/python3.9/site-packages/anndata/_core/anndata.py:1222: SettingWithCopyWarning: \n",
      "A value is trying to be set on a copy of a slice from a DataFrame.\n",
      "Try using .loc[row_indexer,col_indexer] = value instead\n",
      "\n",
      "See the caveats in the documentation: https://pandas.pydata.org/pandas-docs/stable/user_guide/indexing.html#returning-a-view-versus-a-copy\n",
      "  df[key] = c\n"
     ]
    }
   ],
   "source": [
    "mdata.write_h5mu(\"data/processed/scRNAseq_snRNAseq_filteredQC.h5mu\")"
   ]
  },
  {
   "cell_type": "code",
   "execution_count": null,
   "id": "6bcc2e07-1df0-4594-8cae-5b45583ca37e",
   "metadata": {},
   "outputs": [],
   "source": []
  }
 ],
 "metadata": {
  "kernelspec": {
   "display_name": "Python 3 (ipykernel)",
   "language": "python",
   "name": "python3"
  },
  "language_info": {
   "codemirror_mode": {
    "name": "ipython",
    "version": 3
   },
   "file_extension": ".py",
   "mimetype": "text/x-python",
   "name": "python",
   "nbconvert_exporter": "python",
   "pygments_lexer": "ipython3",
   "version": "3.9.16"
  }
 },
 "nbformat": 4,
 "nbformat_minor": 5
}
