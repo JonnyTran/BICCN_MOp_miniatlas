{
 "cells": [
  {
   "cell_type": "code",
   "execution_count": 1,
   "metadata": {},
   "outputs": [],
   "source": [
    "%load_ext autoreload\n",
    "%autoreload 2\n",
    "\n",
    "import tqdm, sys, os, time\n",
    "import pandas as pd\n",
    "import scipy as sp\n",
    "\n",
    "import scanpy as sc\n",
    "import anndata as ad"
   ]
  },
  {
   "cell_type": "markdown",
   "metadata": {},
   "source": [
    "# Load scRNAseq data"
   ]
  },
  {
   "cell_type": "code",
   "execution_count": 2,
   "metadata": {},
   "outputs": [
    {
     "data": {
      "text/plain": [
       "AnnData object with n_obs × n_vars = 215823 × 31053"
      ]
     },
     "execution_count": 2,
     "metadata": {},
     "output_type": "execute_result"
    }
   ],
   "source": [
    "adata = ad.read_h5ad(\"cache/data-raw-snRNAseq_10x_v3_Broad-matrix.h5ad\").transpose()\n",
    "adata"
   ]
  },
  {
   "cell_type": "markdown",
   "metadata": {},
   "source": [
    "## Load samples"
   ]
  },
  {
   "cell_type": "code",
   "execution_count": 3,
   "metadata": {
    "scrolled": true
   },
   "outputs": [
    {
     "data": {
      "text/html": [
       "<div>\n",
       "<style scoped>\n",
       "    .dataframe tbody tr th:only-of-type {\n",
       "        vertical-align: middle;\n",
       "    }\n",
       "\n",
       "    .dataframe tbody tr th {\n",
       "        vertical-align: top;\n",
       "    }\n",
       "\n",
       "    .dataframe thead th {\n",
       "        text-align: right;\n",
       "    }\n",
       "</style>\n",
       "<table border=\"1\" class=\"dataframe\">\n",
       "  <thead>\n",
       "    <tr style=\"text-align: right;\">\n",
       "      <th></th>\n",
       "      <th>nUMI</th>\n",
       "      <th>nGene</th>\n",
       "      <th>size</th>\n",
       "      <th>gene.counts</th>\n",
       "      <th>umi.counts</th>\n",
       "      <th>Broad.QC.doublet</th>\n",
       "      <th>Broad.QC.Mito</th>\n",
       "      <th>Broad.passQC</th>\n",
       "      <th>MALE</th>\n",
       "      <th>cl</th>\n",
       "    </tr>\n",
       "  </thead>\n",
       "  <tbody>\n",
       "    <tr>\n",
       "      <th>count</th>\n",
       "      <td>215823.000000</td>\n",
       "      <td>215823.000000</td>\n",
       "      <td>174348.000000</td>\n",
       "      <td>174348.000000</td>\n",
       "      <td>174348.000000</td>\n",
       "      <td>174348.000000</td>\n",
       "      <td>174348.000000</td>\n",
       "      <td>174348.000000</td>\n",
       "      <td>174348.000000</td>\n",
       "      <td>174348.000000</td>\n",
       "    </tr>\n",
       "    <tr>\n",
       "      <th>mean</th>\n",
       "      <td>11933.397219</td>\n",
       "      <td>3693.444721</td>\n",
       "      <td>10881.678344</td>\n",
       "      <td>3995.986326</td>\n",
       "      <td>12818.433587</td>\n",
       "      <td>0.043944</td>\n",
       "      <td>0.027260</td>\n",
       "      <td>0.927649</td>\n",
       "      <td>0.445328</td>\n",
       "      <td>93.735609</td>\n",
       "    </tr>\n",
       "    <tr>\n",
       "      <th>std</th>\n",
       "      <td>9612.197936</td>\n",
       "      <td>1947.415193</td>\n",
       "      <td>8103.741188</td>\n",
       "      <td>1474.187164</td>\n",
       "      <td>7155.579677</td>\n",
       "      <td>0.111508</td>\n",
       "      <td>0.158758</td>\n",
       "      <td>0.189136</td>\n",
       "      <td>0.078705</td>\n",
       "      <td>36.085813</td>\n",
       "    </tr>\n",
       "    <tr>\n",
       "      <th>min</th>\n",
       "      <td>501.000000</td>\n",
       "      <td>210.000000</td>\n",
       "      <td>14.000000</td>\n",
       "      <td>1409.400000</td>\n",
       "      <td>2308.564103</td>\n",
       "      <td>0.000000</td>\n",
       "      <td>0.000000</td>\n",
       "      <td>0.000000</td>\n",
       "      <td>0.000000</td>\n",
       "      <td>1.000000</td>\n",
       "    </tr>\n",
       "    <tr>\n",
       "      <th>50%</th>\n",
       "      <td>10228.000000</td>\n",
       "      <td>3882.000000</td>\n",
       "      <td>14450.000000</td>\n",
       "      <td>4481.203891</td>\n",
       "      <td>13449.868170</td>\n",
       "      <td>0.010000</td>\n",
       "      <td>0.000000</td>\n",
       "      <td>0.990000</td>\n",
       "      <td>0.448615</td>\n",
       "      <td>94.000000</td>\n",
       "    </tr>\n",
       "    <tr>\n",
       "      <th>max</th>\n",
       "      <td>104062.000000</td>\n",
       "      <td>10829.000000</td>\n",
       "      <td>23971.000000</td>\n",
       "      <td>7026.779330</td>\n",
       "      <td>34730.418990</td>\n",
       "      <td>1.000000</td>\n",
       "      <td>1.000000</td>\n",
       "      <td>1.000000</td>\n",
       "      <td>1.000000</td>\n",
       "      <td>161.000000</td>\n",
       "    </tr>\n",
       "  </tbody>\n",
       "</table>\n",
       "</div>"
      ],
      "text/plain": [
       "                nUMI          nGene           size    gene.counts   \n",
       "count  215823.000000  215823.000000  174348.000000  174348.000000  \\\n",
       "mean    11933.397219    3693.444721   10881.678344    3995.986326   \n",
       "std      9612.197936    1947.415193    8103.741188    1474.187164   \n",
       "min       501.000000     210.000000      14.000000    1409.400000   \n",
       "50%     10228.000000    3882.000000   14450.000000    4481.203891   \n",
       "max    104062.000000   10829.000000   23971.000000    7026.779330   \n",
       "\n",
       "          umi.counts  Broad.QC.doublet  Broad.QC.Mito   Broad.passQC   \n",
       "count  174348.000000     174348.000000  174348.000000  174348.000000  \\\n",
       "mean    12818.433587          0.043944       0.027260       0.927649   \n",
       "std      7155.579677          0.111508       0.158758       0.189136   \n",
       "min      2308.564103          0.000000       0.000000       0.000000   \n",
       "50%     13449.868170          0.010000       0.000000       0.990000   \n",
       "max     34730.418990          1.000000       1.000000       1.000000   \n",
       "\n",
       "                MALE             cl  \n",
       "count  174348.000000  174348.000000  \n",
       "mean        0.445328      93.735609  \n",
       "std         0.078705      36.085813  \n",
       "min         0.000000       1.000000  \n",
       "50%         0.448615      94.000000  \n",
       "max         1.000000     161.000000  "
      ]
     },
     "execution_count": 3,
     "metadata": {},
     "output_type": "execute_result"
    }
   ],
   "source": [
    "obs = pd.read_csv(\"data/raw/snRNAseq_10x_v3_Broad/barcodes.csv.gz\", \n",
    "                  compression='gzip', skiprows=1,\n",
    "                  names=['sample_name'], index_col=0)\n",
    "\n",
    "\n",
    "metadata = pd.read_csv(\"data/raw/snRNAseq_10x_v3_Broad/sample_metadata.csv\", \n",
    "                       dtype={'dataset': 'str',\n",
    "                              'QC': 'str',\n",
    "                              'Gender': 'str',\n",
    "                              'Allen.cluster_id': 'str',\n",
    "                              'comb.QC': 'str',\n",
    "                             },\n",
    "                       # parse_dates=['Lib_Date', 'Amp_Date'],\n",
    "                       index_col='sample_name', na_values=['nan'],)\n",
    "metadata.drop(columns=['Unnamed: 0'], inplace=True)\n",
    "\n",
    "\n",
    "cluster_membership = pd.read_csv(\"data/raw/snRNAseq_10x_v3_Broad/cluster.membership.csv\", \n",
    "                                 names=['barcode', 'cluster_id'], \n",
    "                                 dtype={'cluster_id': 'str'},\n",
    "                                 skiprows=1, index_col=0, na_values=['nan'],)\n",
    "\n",
    "cluster_annotation = pd.read_csv(\"data/raw/snRNAseq_10x_v3_Broad/cluster.annotation.csv\", \n",
    "                                 index_col='cluster_id', \n",
    "                                 dtype={'cluster_id': 'str'}, na_values=['nan'],)\n",
    "\n",
    "cluster_membership = cluster_membership.join(cluster_annotation, on='cluster_id')\n",
    "\n",
    "\n",
    "obs = obs.join(metadata).join(cluster_membership)\n",
    "obs.describe(percentiles=[])"
   ]
  },
  {
   "cell_type": "code",
   "execution_count": 4,
   "metadata": {},
   "outputs": [],
   "source": [
    "adata.obs = obs"
   ]
  },
  {
   "cell_type": "markdown",
   "metadata": {},
   "source": [
    "## Load variables"
   ]
  },
  {
   "cell_type": "code",
   "execution_count": 16,
   "metadata": {
    "scrolled": true
   },
   "outputs": [],
   "source": [
    "var = pd.read_table(\"data/raw/scRNAseq_10x_v3_AIBS/features.tsv.gz\", \n",
    "                    compression='gzip', header=None, \n",
    "                    names=['gene_id', 'gene_name', 'type'], \n",
    "                    usecols=['gene_id', 'gene_name'])\n",
    "adata.var = var.set_index(\"gene_name\")"
   ]
  },
  {
   "cell_type": "code",
   "execution_count": 17,
   "metadata": {},
   "outputs": [],
   "source": [
    "adata.var_names_make_unique()"
   ]
  },
  {
   "cell_type": "markdown",
   "metadata": {},
   "source": [
    "## AnnData "
   ]
  },
  {
   "cell_type": "code",
   "execution_count": 18,
   "metadata": {},
   "outputs": [
    {
     "data": {
      "text/plain": [
       "AnnData object with n_obs × n_vars = 215823 × 31053\n",
       "    obs: 'nUMI', 'nGene', 'dataset', 'QC', 'cluster', 'Allen.cluster_id', 'Allen.cluster_label', 'Allen.cluster_color', 'Allen.class_label', 'Allen.subclass_label', 'comb.QC', 'cluster_id', 'cluster_label', 'cluster_color', 'class_label', 'subclass_label', 'size', 'gene.counts', 'umi.counts', 'Broad.QC.doublet', 'Broad.QC.Mito', 'Broad.passQC', 'MALE', 'Comb.QC', 'cl'\n",
       "    var: 'gene_id'"
      ]
     },
     "execution_count": 18,
     "metadata": {},
     "output_type": "execute_result"
    }
   ],
   "source": [
    "adata"
   ]
  },
  {
   "cell_type": "code",
   "execution_count": 20,
   "metadata": {},
   "outputs": [
    {
     "data": {
      "text/html": [
       "<div>\n",
       "<style scoped>\n",
       "    .dataframe tbody tr th:only-of-type {\n",
       "        vertical-align: middle;\n",
       "    }\n",
       "\n",
       "    .dataframe tbody tr th {\n",
       "        vertical-align: top;\n",
       "    }\n",
       "\n",
       "    .dataframe thead th {\n",
       "        text-align: right;\n",
       "    }\n",
       "</style>\n",
       "<table border=\"1\" class=\"dataframe\">\n",
       "  <thead>\n",
       "    <tr style=\"text-align: right;\">\n",
       "      <th></th>\n",
       "      <th>cluster_id</th>\n",
       "      <th>cluster_label</th>\n",
       "      <th>subclass_label</th>\n",
       "      <th>class_label</th>\n",
       "      <th>cluster_color</th>\n",
       "      <th>size</th>\n",
       "    </tr>\n",
       "    <tr>\n",
       "      <th>sample_name</th>\n",
       "      <th></th>\n",
       "      <th></th>\n",
       "      <th></th>\n",
       "      <th></th>\n",
       "      <th></th>\n",
       "      <th></th>\n",
       "    </tr>\n",
       "  </thead>\n",
       "  <tbody>\n",
       "    <tr>\n",
       "      <th>pBICCNsMMrMOpRMiF007d190314_AAAGAACGTTAATGAG</th>\n",
       "      <td>NaN</td>\n",
       "      <td>NaN</td>\n",
       "      <td>NaN</td>\n",
       "      <td>NaN</td>\n",
       "      <td>NaN</td>\n",
       "      <td>NaN</td>\n",
       "    </tr>\n",
       "    <tr>\n",
       "      <th>pBICCNsMMrMOpRMiF007d190314_AAAGAACTCTACGGTA</th>\n",
       "      <td>48</td>\n",
       "      <td>L2/3 IT_1</td>\n",
       "      <td>L2/3 IT</td>\n",
       "      <td>Glutamatergic</td>\n",
       "      <td>#6F836B</td>\n",
       "      <td>23971.0</td>\n",
       "    </tr>\n",
       "    <tr>\n",
       "      <th>pBICCNsMMrMOpRMiF007d190314_AAAGGGCAGAGGCTGT</th>\n",
       "      <td>NaN</td>\n",
       "      <td>NaN</td>\n",
       "      <td>NaN</td>\n",
       "      <td>NaN</td>\n",
       "      <td>NaN</td>\n",
       "      <td>NaN</td>\n",
       "    </tr>\n",
       "    <tr>\n",
       "      <th>pBICCNsMMrMOpRMiF007d190314_AAAGGGCAGGGCTAAC</th>\n",
       "      <td>91</td>\n",
       "      <td>Astro Aqp4_1</td>\n",
       "      <td>Astro</td>\n",
       "      <td>Non-Neuronal</td>\n",
       "      <td>#7C2D1F</td>\n",
       "      <td>16143.0</td>\n",
       "    </tr>\n",
       "    <tr>\n",
       "      <th>pBICCNsMMrMOpRMiF007d190314_AAAGGTAGTGGCTGAA</th>\n",
       "      <td>48</td>\n",
       "      <td>L2/3 IT_1</td>\n",
       "      <td>L2/3 IT</td>\n",
       "      <td>Glutamatergic</td>\n",
       "      <td>#6F836B</td>\n",
       "      <td>23971.0</td>\n",
       "    </tr>\n",
       "    <tr>\n",
       "      <th>...</th>\n",
       "      <td>...</td>\n",
       "      <td>...</td>\n",
       "      <td>...</td>\n",
       "      <td>...</td>\n",
       "      <td>...</td>\n",
       "      <td>...</td>\n",
       "    </tr>\n",
       "    <tr>\n",
       "      <th>pBICCNsMMrMOpRMiM006d190320_TTTGGTTGTATCGCTA</th>\n",
       "      <td>NaN</td>\n",
       "      <td>NaN</td>\n",
       "      <td>NaN</td>\n",
       "      <td>NaN</td>\n",
       "      <td>NaN</td>\n",
       "      <td>NaN</td>\n",
       "    </tr>\n",
       "    <tr>\n",
       "      <th>pBICCNsMMrMOpRMiM006d190320_TTTGGTTTCGCAAGAG</th>\n",
       "      <td>90</td>\n",
       "      <td>Oligo Opalin_4</td>\n",
       "      <td>Oligo</td>\n",
       "      <td>Non-Neuronal</td>\n",
       "      <td>#474662</td>\n",
       "      <td>16566.0</td>\n",
       "    </tr>\n",
       "    <tr>\n",
       "      <th>pBICCNsMMrMOpRMiM006d190320_TTTGTTGAGACTCTTG</th>\n",
       "      <td>51</td>\n",
       "      <td>L5 IT S100b</td>\n",
       "      <td>L5 IT</td>\n",
       "      <td>Glutamatergic</td>\n",
       "      <td>#00CF1E</td>\n",
       "      <td>8684.0</td>\n",
       "    </tr>\n",
       "    <tr>\n",
       "      <th>pBICCNsMMrMOpRMiM006d190320_TTTGTTGTCACCTTGC</th>\n",
       "      <td>52</td>\n",
       "      <td>L5 IT Pld5</td>\n",
       "      <td>L5 IT</td>\n",
       "      <td>Glutamatergic</td>\n",
       "      <td>#3CBC92</td>\n",
       "      <td>3621.0</td>\n",
       "    </tr>\n",
       "    <tr>\n",
       "      <th>pBICCNsMMrMOpRMiM006d190320_TTTGTTGTCATGCTAG</th>\n",
       "      <td>48</td>\n",
       "      <td>L2/3 IT_1</td>\n",
       "      <td>L2/3 IT</td>\n",
       "      <td>Glutamatergic</td>\n",
       "      <td>#6F836B</td>\n",
       "      <td>23971.0</td>\n",
       "    </tr>\n",
       "  </tbody>\n",
       "</table>\n",
       "<p>215823 rows × 6 columns</p>\n",
       "</div>"
      ],
      "text/plain": [
       "                                             cluster_id   cluster_label   \n",
       "sample_name                                                               \n",
       "pBICCNsMMrMOpRMiF007d190314_AAAGAACGTTAATGAG        NaN             NaN  \\\n",
       "pBICCNsMMrMOpRMiF007d190314_AAAGAACTCTACGGTA         48       L2/3 IT_1   \n",
       "pBICCNsMMrMOpRMiF007d190314_AAAGGGCAGAGGCTGT        NaN             NaN   \n",
       "pBICCNsMMrMOpRMiF007d190314_AAAGGGCAGGGCTAAC         91    Astro Aqp4_1   \n",
       "pBICCNsMMrMOpRMiF007d190314_AAAGGTAGTGGCTGAA         48       L2/3 IT_1   \n",
       "...                                                 ...             ...   \n",
       "pBICCNsMMrMOpRMiM006d190320_TTTGGTTGTATCGCTA        NaN             NaN   \n",
       "pBICCNsMMrMOpRMiM006d190320_TTTGGTTTCGCAAGAG         90  Oligo Opalin_4   \n",
       "pBICCNsMMrMOpRMiM006d190320_TTTGTTGAGACTCTTG         51     L5 IT S100b   \n",
       "pBICCNsMMrMOpRMiM006d190320_TTTGTTGTCACCTTGC         52      L5 IT Pld5   \n",
       "pBICCNsMMrMOpRMiM006d190320_TTTGTTGTCATGCTAG         48       L2/3 IT_1   \n",
       "\n",
       "                                             subclass_label    class_label   \n",
       "sample_name                                                                  \n",
       "pBICCNsMMrMOpRMiF007d190314_AAAGAACGTTAATGAG            NaN            NaN  \\\n",
       "pBICCNsMMrMOpRMiF007d190314_AAAGAACTCTACGGTA        L2/3 IT  Glutamatergic   \n",
       "pBICCNsMMrMOpRMiF007d190314_AAAGGGCAGAGGCTGT            NaN            NaN   \n",
       "pBICCNsMMrMOpRMiF007d190314_AAAGGGCAGGGCTAAC          Astro   Non-Neuronal   \n",
       "pBICCNsMMrMOpRMiF007d190314_AAAGGTAGTGGCTGAA        L2/3 IT  Glutamatergic   \n",
       "...                                                     ...            ...   \n",
       "pBICCNsMMrMOpRMiM006d190320_TTTGGTTGTATCGCTA            NaN            NaN   \n",
       "pBICCNsMMrMOpRMiM006d190320_TTTGGTTTCGCAAGAG          Oligo   Non-Neuronal   \n",
       "pBICCNsMMrMOpRMiM006d190320_TTTGTTGAGACTCTTG          L5 IT  Glutamatergic   \n",
       "pBICCNsMMrMOpRMiM006d190320_TTTGTTGTCACCTTGC          L5 IT  Glutamatergic   \n",
       "pBICCNsMMrMOpRMiM006d190320_TTTGTTGTCATGCTAG        L2/3 IT  Glutamatergic   \n",
       "\n",
       "                                             cluster_color     size  \n",
       "sample_name                                                          \n",
       "pBICCNsMMrMOpRMiF007d190314_AAAGAACGTTAATGAG           NaN      NaN  \n",
       "pBICCNsMMrMOpRMiF007d190314_AAAGAACTCTACGGTA       #6F836B  23971.0  \n",
       "pBICCNsMMrMOpRMiF007d190314_AAAGGGCAGAGGCTGT           NaN      NaN  \n",
       "pBICCNsMMrMOpRMiF007d190314_AAAGGGCAGGGCTAAC       #7C2D1F  16143.0  \n",
       "pBICCNsMMrMOpRMiF007d190314_AAAGGTAGTGGCTGAA       #6F836B  23971.0  \n",
       "...                                                    ...      ...  \n",
       "pBICCNsMMrMOpRMiM006d190320_TTTGGTTGTATCGCTA           NaN      NaN  \n",
       "pBICCNsMMrMOpRMiM006d190320_TTTGGTTTCGCAAGAG       #474662  16566.0  \n",
       "pBICCNsMMrMOpRMiM006d190320_TTTGTTGAGACTCTTG       #00CF1E   8684.0  \n",
       "pBICCNsMMrMOpRMiM006d190320_TTTGTTGTCACCTTGC       #3CBC92   3621.0  \n",
       "pBICCNsMMrMOpRMiM006d190320_TTTGTTGTCATGCTAG       #6F836B  23971.0  \n",
       "\n",
       "[215823 rows x 6 columns]"
      ]
     },
     "execution_count": 20,
     "metadata": {},
     "output_type": "execute_result"
    }
   ],
   "source": [
    "adata.obs[['cluster_id', 'cluster_label', 'subclass_label', 'class_label', 'cluster_color', 'size']]"
   ]
  },
  {
   "cell_type": "markdown",
   "metadata": {},
   "source": [
    "# Save"
   ]
  },
  {
   "cell_type": "code",
   "execution_count": 21,
   "metadata": {},
   "outputs": [
    {
     "name": "stderr",
     "output_type": "stream",
     "text": [
      "/opt/anaconda3/lib/python3.9/site-packages/loompy/bus_file.py:68: NumbaDeprecationWarning: \u001b[1mThe 'nopython' keyword argument was not supplied to the 'numba.jit' decorator. The implicit default value for this argument is currently False, but it will be changed to True in Numba 0.59.0. See https://numba.readthedocs.io/en/stable/reference/deprecation.html#deprecation-of-object-mode-fall-back-behaviour-when-using-jit for details.\u001b[0m\n",
      "  def twobit_to_dna(twobit: int, size: int) -> str:\n",
      "/opt/anaconda3/lib/python3.9/site-packages/loompy/bus_file.py:85: NumbaDeprecationWarning: \u001b[1mThe 'nopython' keyword argument was not supplied to the 'numba.jit' decorator. The implicit default value for this argument is currently False, but it will be changed to True in Numba 0.59.0. See https://numba.readthedocs.io/en/stable/reference/deprecation.html#deprecation-of-object-mode-fall-back-behaviour-when-using-jit for details.\u001b[0m\n",
      "  def dna_to_twobit(dna: str) -> int:\n",
      "/opt/anaconda3/lib/python3.9/site-packages/loompy/bus_file.py:102: NumbaDeprecationWarning: \u001b[1mThe 'nopython' keyword argument was not supplied to the 'numba.jit' decorator. The implicit default value for this argument is currently False, but it will be changed to True in Numba 0.59.0. See https://numba.readthedocs.io/en/stable/reference/deprecation.html#deprecation-of-object-mode-fall-back-behaviour-when-using-jit for details.\u001b[0m\n",
      "  def twobit_1hamming(twobit: int, size: int) -> List[int]:\n"
     ]
    }
   ],
   "source": [
    "adata.write_loom(\"data/processed/snRNAseq_10x_v3_Broad.loom\", write_obsm_varm=True)"
   ]
  },
  {
   "cell_type": "code",
   "execution_count": null,
   "metadata": {},
   "outputs": [],
   "source": []
  }
 ],
 "metadata": {
  "kernelspec": {
   "display_name": "Python 3 (ipykernel)",
   "language": "python",
   "name": "python3"
  },
  "language_info": {
   "codemirror_mode": {
    "name": "ipython",
    "version": 3
   },
   "file_extension": ".py",
   "mimetype": "text/x-python",
   "name": "python",
   "nbconvert_exporter": "python",
   "pygments_lexer": "ipython3",
   "version": "3.9.16"
  }
 },
 "nbformat": 4,
 "nbformat_minor": 4
}
